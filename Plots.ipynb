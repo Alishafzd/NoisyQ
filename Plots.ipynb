{
 "cells": [
  {
   "cell_type": "code",
   "execution_count": 135,
   "metadata": {},
   "outputs": [],
   "source": [
    "import numpy as np\n",
    "import matplotlib.pyplot as plt\n",
    "from scipy.stats import entropy\n",
    "import glob\n",
    "from tabulate import tabulate\n",
    "import pandas as pd\n"
   ]
  },
  {
   "cell_type": "code",
   "execution_count": 136,
   "metadata": {},
   "outputs": [],
   "source": [
    "method = 3\n",
    "folder = f\"method{method}/\"\n",
    "\n",
    "select = [\"0.5_5000\", \"0.5_500\", \"0.5_1000\"]\n",
    "\n",
    "heat_steps = [5000, 10000, 15000]\n",
    "noise = [0.1, 0.5, 1]\n",
    "rate = [500, 1000, 5000]\n",
    "prefix = \"_heat_\"\n",
    "\n",
    "# Heat map table for methods\n",
    "entropies = []\n",
    "col = []\n",
    "for n in noise:\n",
    "    for r in rate:\n",
    "        row = [str(n) + \"_\" + str(r)]\n",
    "        for step in heat_steps:\n",
    "            name = str(n) + \"_\" + str(r) + \"_heat_\" + str(step) + \".npy\"\n",
    "            array = np.load(folder + name)\n",
    "            row.append(entropy(array.ravel()))\n",
    "        \n",
    "        col.append(row)                  "
   ]
  },
  {
   "cell_type": "code",
   "execution_count": 137,
   "metadata": {},
   "outputs": [
    {
     "data": {
      "text/html": [
       "<div>\n",
       "<style scoped>\n",
       "    .dataframe tbody tr th:only-of-type {\n",
       "        vertical-align: middle;\n",
       "    }\n",
       "\n",
       "    .dataframe tbody tr th {\n",
       "        vertical-align: top;\n",
       "    }\n",
       "\n",
       "    .dataframe thead th {\n",
       "        text-align: right;\n",
       "    }\n",
       "</style>\n",
       "<table border=\"1\" class=\"dataframe\">\n",
       "  <thead>\n",
       "    <tr style=\"text-align: right;\">\n",
       "      <th></th>\n",
       "      <th>Noise</th>\n",
       "      <th>5000</th>\n",
       "      <th>10000</th>\n",
       "      <th>15000</th>\n",
       "    </tr>\n",
       "  </thead>\n",
       "  <tbody>\n",
       "    <tr>\n",
       "      <th>0</th>\n",
       "      <td>0.1_500</td>\n",
       "      <td>4.955466</td>\n",
       "      <td>5.014525</td>\n",
       "      <td>5.071547</td>\n",
       "    </tr>\n",
       "    <tr>\n",
       "      <th>1</th>\n",
       "      <td>0.1_1000</td>\n",
       "      <td>4.958548</td>\n",
       "      <td>5.001988</td>\n",
       "      <td>5.053410</td>\n",
       "    </tr>\n",
       "    <tr>\n",
       "      <th>2</th>\n",
       "      <td>0.1_5000</td>\n",
       "      <td>4.969055</td>\n",
       "      <td>4.983493</td>\n",
       "      <td>4.990866</td>\n",
       "    </tr>\n",
       "    <tr>\n",
       "      <th>3</th>\n",
       "      <td>0.5_500</td>\n",
       "      <td>4.698673</td>\n",
       "      <td>4.900127</td>\n",
       "      <td>4.989845</td>\n",
       "    </tr>\n",
       "    <tr>\n",
       "      <th>4</th>\n",
       "      <td>0.5_1000</td>\n",
       "      <td>5.125626</td>\n",
       "      <td>5.153482</td>\n",
       "      <td>5.140268</td>\n",
       "    </tr>\n",
       "    <tr>\n",
       "      <th>5</th>\n",
       "      <td>0.5_5000</td>\n",
       "      <td>5.012007</td>\n",
       "      <td>5.030069</td>\n",
       "      <td>5.086357</td>\n",
       "    </tr>\n",
       "    <tr>\n",
       "      <th>6</th>\n",
       "      <td>1_500</td>\n",
       "      <td>4.412932</td>\n",
       "      <td>4.779583</td>\n",
       "      <td>4.896316</td>\n",
       "    </tr>\n",
       "    <tr>\n",
       "      <th>7</th>\n",
       "      <td>1_1000</td>\n",
       "      <td>4.910281</td>\n",
       "      <td>4.945968</td>\n",
       "      <td>4.994852</td>\n",
       "    </tr>\n",
       "    <tr>\n",
       "      <th>8</th>\n",
       "      <td>1_5000</td>\n",
       "      <td>4.945780</td>\n",
       "      <td>5.081475</td>\n",
       "      <td>5.084254</td>\n",
       "    </tr>\n",
       "  </tbody>\n",
       "</table>\n",
       "</div>"
      ],
      "text/plain": [
       "      Noise      5000     10000     15000\n",
       "0   0.1_500  4.955466  5.014525  5.071547\n",
       "1  0.1_1000  4.958548  5.001988  5.053410\n",
       "2  0.1_5000  4.969055  4.983493  4.990866\n",
       "3   0.5_500  4.698673  4.900127  4.989845\n",
       "4  0.5_1000  5.125626  5.153482  5.140268\n",
       "5  0.5_5000  5.012007  5.030069  5.086357\n",
       "6     1_500  4.412932  4.779583  4.896316\n",
       "7    1_1000  4.910281  4.945968  4.994852\n",
       "8    1_5000  4.945780  5.081475  5.084254"
      ]
     },
     "execution_count": 137,
     "metadata": {},
     "output_type": "execute_result"
    }
   ],
   "source": [
    "data = pd.DataFrame(col, columns=[\"Noise\", \"5000\", \"10000\", \"15000\"])\n",
    "data"
   ]
  },
  {
   "cell_type": "code",
   "execution_count": 134,
   "metadata": {},
   "outputs": [
    {
     "data": {
      "image/png": "[encoded data removed]",
      "text/plain": [
       "<Figure size 640x480 with 3 Axes>"
      ]
     },
     "metadata": {},
     "output_type": "display_data"
    }
   ],
   "source": [
    "file_names = glob.glob(f\"method{method}/*_heat_*.npy\")\n",
    "plt.rcParams.update({'font.size': 10, 'axes.titlesize': 10, 'axes.titleweight': 'bold', 'axes.labelsize': 10, 'axes.labelweight': 'bold'})\n",
    "\n",
    "select = [\"0.5_5000\", \"0.5_500\", \"0.5_1000\"]\n",
    "\n",
    "fig, axs = plt.subplots(1, 3)\n",
    "i = 0\n",
    "for file in file_names:    \n",
    "    rate = file.split(\"\\\\\")[1].split(\"_\")[-1]\n",
    "    \n",
    "    if \"_\".join(file.split(\"\\\\\")[1].split(\"_\")[:2]) in [select[method-1]] and int(rate.split('.')[0]) != 50000:\n",
    "        array = np.load(file)\n",
    "        axs[i].imshow(array, cmap='hot', interpolation='nearest')\n",
    "        axs[i].set_xlabel(f\"{entropy(array.ravel()):.3f}\")\n",
    "        axs[i].set_xticklabels([])\n",
    "        axs[i].set_yticklabels([])\n",
    "        i += 1\n",
    "\n",
    "fig.savefig(f\"heat_method{method}\",bbox_inches='tight',pad_inches=0.01,dpi=150) \n"
   ]
  },
  {
   "cell_type": "code",
   "execution_count": null,
   "metadata": {},
   "outputs": [],
   "source": [
    "# Plot scores\n",
    "decays = [1000, 2000, 5000, 7000, 10000]\n",
    "episodes = []\n",
    "scores = []\n",
    "for decay in decays:\n",
    "    episodes.append(np.load(f\"epsilon/{decay}_episodes.npy\"))\n",
    "    scores.append(np.load(f\"epsilon/{decay}_score.npy\"))\n",
    "    \n"
   ]
  }
 ],
 "metadata": {
  "kernelspec": {
   "display_name": "conda",
   "language": "python",
   "name": "python3"
  },
  "language_info": {
   "codemirror_mode": {
    "name": "ipython",
    "version": 3
   },
   "file_extension": ".py",
   "mimetype": "text/x-python",
   "name": "python",
   "nbconvert_exporter": "python",
   "pygments_lexer": "ipython3",
   "version": "3.8.18"
  }
 },
 "nbformat": 4,
 "nbformat_minor": 2
}
